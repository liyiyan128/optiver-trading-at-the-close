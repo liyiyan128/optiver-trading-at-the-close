{
 "cells": [
  {
   "cell_type": "code",
   "execution_count": null,
   "metadata": {},
   "outputs": [],
   "source": [
    "import numpy as np\n",
    "import pandas as pd\n",
    "\n",
    "import lightgbm as lgb\n",
    "from sklearn.decomposition import PCA\n",
    "\n",
    "from itertools import combinations\n",
    "\n",
    "\n",
    "train = pd.read_csv('/kaggle/input/optiver-trading-at-the-close/train.csv')"
   ]
  },
  {
   "cell_type": "code",
   "execution_count": null,
   "metadata": {},
   "outputs": [],
   "source": [
    "# df = train.drop(columns=\"target\")\n",
    "def feat_eng(df):\n",
    "\n",
    "    # volume\n",
    "    df[\"bid_volume\"] = df.eval(\"bid_size * bid_price\")\n",
    "    df[\"ask_volume\"] = df.eval(\"ask_size * ask_price\")\n",
    "\n",
    "    # bid ask spread\n",
    "    df[\"bid_ask_spread\"] = df[\"ask_price\"] - df[\"bid_price\"]\n",
    "\n",
    "    # imbalance ratio\n",
    "    df[\"imbalance_ratio\"] = df.eval(\"imbalance_size / matched_size\")\n",
    "\n",
    "    df['imb_s1'] = df.eval(\"(bid_size - ask_size) / (bid_size + ask_size)\")\n",
    "    df['imb_s2'] = df.eval(\"(imbalance_size - matched_size) / (matched_size + imbalance_size)\")\n",
    "\n",
    "    prices = [\"reference_price\", \"far_price\", \"near_price\", \"ask_price\", \"bid_price\", \"wap\"]\n",
    "\n",
    "    for a, b in combinations(prices, 2):\n",
    "        df[f\"{a}_{b}_imb\"] = df.eval(f\"({a} - {b}) / ({a} + {b})\")\n",
    "\n",
    "    for a, b, c in combinations(prices, 3):\n",
    "        max_ = df[[a, b, c]].max(axis=1)\n",
    "        min_ = df[[a, b, c]].min(axis=1)\n",
    "        mid_ = df[[a, b, c]].sum(axis=1) - min_ - max_\n",
    "\n",
    "        df[f\"{a}_{b}_{c}_imb\"] = (max_ - mid_) / (mid_ - min_)\n",
    "\n",
    "    # log return\n",
    "    df[\"log_return\"] = df[\"wap\"].apply(lambda x: np.log(x) if x is not None else x)\n",
    "\n",
    "    features = [feat for feat in df.columns if feat not in [\"row_id\", \"time_id\", \"date_id\"]]\n",
    "\n",
    "    return df[features]"
   ]
  },
  {
   "cell_type": "code",
   "execution_count": null,
   "metadata": {},
   "outputs": [],
   "source": [
    "X = feat_eng(train.drop(columns=\"target\"))\n",
    "y = train['target'].values"
   ]
  },
  {
   "cell_type": "code",
   "execution_count": null,
   "metadata": {},
   "outputs": [],
   "source": [
    "# PCA\n",
    "prices = [feat for feat in train.columns if \"price\" in feat]\n",
    "pca = PCA(n_components=1)\n",
    "X[\"pca_prices\"] = pca.fit_transform(X[prices].fillna(1))"
   ]
  },
  {
   "cell_type": "code",
   "execution_count": null,
   "metadata": {},
   "outputs": [],
   "source": [
    "model = lgb.LGBMRegressor(\n",
    "    learning_rate=0.018,\n",
    "    max_depth=9,\n",
    "    n_estimators=700,\n",
    "    num_leaves=442,\n",
    "    objective=\"mae\",\n",
    "    reg_alpha=0.02,\n",
    "    reg_lambda=0.01\n",
    ")\n",
    "model.fit(X, y)"
   ]
  },
  {
   "cell_type": "code",
   "execution_count": null,
   "metadata": {},
   "outputs": [],
   "source": [
    "# feature importance\n",
    "feat_imp = pd.Series(model.feature_importances_, index=X.columns).sort_values(ascending=False)\n",
    "print(feat_imp)\n",
    "feat_imp.plot(kind=\"barh\")"
   ]
  },
  {
   "cell_type": "code",
   "execution_count": null,
   "metadata": {},
   "outputs": [],
   "source": [
    "import optiver2023\n",
    "env = optiver2023.make_env()\n",
    "iter_test = env.iter_test()"
   ]
  },
  {
   "cell_type": "code",
   "execution_count": null,
   "metadata": {},
   "outputs": [],
   "source": [
    "counter = 0\n",
    "for (test, revealed_targets, sample_prediction) in iter_test:\n",
    "\n",
    "    feature = feat_eng(test)\n",
    "    feature[\"pca_prices\"] = pca.transform(feature[prices].fillna(1))\n",
    "    sample_prediction['target'] = model.predict(feature)\n",
    "    env.predict(sample_prediction)\n",
    "\n",
    "    counter += 1"
   ]
  }
 ],
 "metadata": {
  "kernelspec": {
   "display_name": "Python 3",
   "language": "python",
   "name": "python3"
  },
  "language_info": {
   "codemirror_mode": {
    "name": "ipython",
    "version": 3
   },
   "file_extension": ".py",
   "mimetype": "text/x-python",
   "name": "python",
   "nbconvert_exporter": "python",
   "pygments_lexer": "ipython3",
   "version": "3.11.4"
  }
 },
 "nbformat": 4,
 "nbformat_minor": 2
}
