{
 "cells": [
  {
   "cell_type": "code",
   "execution_count": 1,
   "id": "ab8aae03",
   "metadata": {
    "execution": {
     "iopub.execute_input": "2023-12-11T06:18:46.410802Z",
     "iopub.status.busy": "2023-12-11T06:18:46.410424Z",
     "iopub.status.idle": "2023-12-11T06:18:51.443015Z",
     "shell.execute_reply": "2023-12-11T06:18:51.442052Z"
    },
    "papermill": {
     "duration": 5.043668,
     "end_time": "2023-12-11T06:18:51.445358",
     "exception": false,
     "start_time": "2023-12-11T06:18:46.401690",
     "status": "completed"
    },
    "tags": []
   },
   "outputs": [],
   "source": [
    "import gc  \n",
    "import os  \n",
    "import time  \n",
    "import warnings \n",
    "from itertools import combinations  \n",
    "from warnings import simplefilter \n",
    "import joblib  \n",
    "import lightgbm as lgb  \n",
    "import numpy as np  \n",
    "import pandas as pd  \n",
    "from sklearn.metrics import mean_absolute_error \n",
    "from sklearn.model_selection import KFold, TimeSeriesSplit  \n",
    "import polars as pl\n",
    "import pickle\n",
    "warnings.filterwarnings(\"ignore\")\n",
    "simplefilter(action=\"ignore\", category=pd.errors.PerformanceWarning)\n",
    "\n",
    "is_offline = False \n",
    "LGB = True\n",
    "NN = False\n",
    "is_train = True  \n",
    "is_infer = True \n",
    "max_lookback = np.nan \n",
    "split_day = 435  "
   ]
  },
  {
   "cell_type": "markdown",
   "id": "92a64180",
   "metadata": {
    "papermill": {
     "duration": 0.007901,
     "end_time": "2023-12-11T06:18:51.461071",
     "exception": false,
     "start_time": "2023-12-11T06:18:51.453170",
     "status": "completed"
    },
    "tags": []
   },
   "source": [
    "# **Utilities**"
   ]
  },
  {
   "cell_type": "markdown",
   "id": "001f5043",
   "metadata": {
    "papermill": {
     "duration": 0.008779,
     "end_time": "2023-12-11T06:18:51.580686",
     "exception": false,
     "start_time": "2023-12-11T06:18:51.571907",
     "status": "completed"
    },
    "tags": []
   },
   "source": [
    "# Data Loading\n",
    "\n",
    "\n",
    "\n",
    "\n"
   ]
  },
  {
   "cell_type": "code",
   "execution_count": 2,
   "id": "68cca745",
   "metadata": {
    "execution": {
     "iopub.execute_input": "2023-12-11T06:18:51.602113Z",
     "iopub.status.busy": "2023-12-11T06:18:51.601213Z",
     "iopub.status.idle": "2023-12-11T06:19:10.941130Z",
     "shell.execute_reply": "2023-12-11T06:19:10.940131Z"
    },
    "papermill": {
     "duration": 19.353257,
     "end_time": "2023-12-11T06:19:10.943558",
     "exception": false,
     "start_time": "2023-12-11T06:18:51.590301",
     "status": "completed"
    },
    "tags": []
   },
   "outputs": [],
   "source": [
    "df = pd.read_csv(\"../input/optiver-trading-at-the-close/train.csv\")\n",
    "df = df.dropna(subset=[\"target\"])\n",
    "df.reset_index(drop=True, inplace=True)\n",
    "df_shape = df.shape\n",
    "stocklist = df.stock_id.unique()"
   ]
  },
  {
   "cell_type": "code",
   "execution_count": 4,
   "id": "3e68e0dd",
   "metadata": {},
   "outputs": [],
   "source": [
    "models = pickle.load(open('optmodels.pkl', 'rb'))"
   ]
  },
  {
   "cell_type": "markdown",
   "id": "28fda1bc",
   "metadata": {
    "papermill": {
     "duration": 0.007269,
     "end_time": "2023-12-11T06:19:10.995858",
     "exception": false,
     "start_time": "2023-12-11T06:19:10.988589",
     "status": "completed"
    },
    "tags": []
   },
   "source": [
    " # Parallel Triplet Imbalance Calculation"
   ]
  },
  {
   "cell_type": "code",
   "execution_count": 5,
   "id": "2c8db301",
   "metadata": {
    "execution": {
     "iopub.execute_input": "2023-12-11T06:19:11.011924Z",
     "iopub.status.busy": "2023-12-11T06:19:11.011642Z",
     "iopub.status.idle": "2023-12-11T06:19:11.596520Z",
     "shell.execute_reply": "2023-12-11T06:19:11.595776Z"
    },
    "papermill": {
     "duration": 0.595412,
     "end_time": "2023-12-11T06:19:11.598699",
     "exception": false,
     "start_time": "2023-12-11T06:19:11.003287",
     "status": "completed"
    },
    "tags": []
   },
   "outputs": [],
   "source": [
    "from numba import njit, prange\n",
    "\n",
    "@njit(parallel=True)\n",
    "def compute_triplet_imbalance(df_values, comb_indices):\n",
    "    num_rows = df_values.shape[0]\n",
    "    num_combinations = len(comb_indices)\n",
    "    imbalance_features = np.empty((num_rows, num_combinations))\n",
    "    for i in prange(num_combinations):\n",
    "        a, b, c = comb_indices[i]\n",
    "        for j in range(num_rows):\n",
    "            max_val = max(df_values[j, a], df_values[j, b], df_values[j, c])\n",
    "            min_val = min(df_values[j, a], df_values[j, b], df_values[j, c])\n",
    "            mid_val = df_values[j, a] + df_values[j, b] + df_values[j, c] - min_val - max_val\n",
    "            \n",
    "            if mid_val == min_val:\n",
    "                imbalance_features[j, i] = np.nan\n",
    "            else:\n",
    "                imbalance_features[j, i] = (max_val - mid_val) / (mid_val - min_val)\n",
    "\n",
    "    return imbalance_features\n",
    "\n",
    "def calculate_triplet_imbalance_numba(price, df):\n",
    "    df_values = df[price].values\n",
    "    comb_indices = [(price.index(a), price.index(b), price.index(c)) for a, b, c in combinations(price, 3)]\n",
    "    features_array = compute_triplet_imbalance(df_values, comb_indices)\n",
    "    columns = [f\"{a}_{b}_{c}_imb2\" for a, b, c in combinations(price, 3)]\n",
    "    features = pd.DataFrame(features_array, columns=columns)\n",
    "    return features\n",
    "def weighted_average(a):\n",
    "\n",
    "    n = len(a)\n",
    "    w = [1 / n] * n\n",
    "    return w"
   ]
  },
  {
   "cell_type": "markdown",
   "id": "a6253b95",
   "metadata": {
    "papermill": {
     "duration": 0.007346,
     "end_time": "2023-12-11T06:19:11.613752",
     "exception": false,
     "start_time": "2023-12-11T06:19:11.606406",
     "status": "completed"
    },
    "tags": []
   },
   "source": [
    "# Feature Generation Functions "
   ]
  },
  {
   "cell_type": "code",
   "execution_count": 6,
   "id": "f2e21fc9",
   "metadata": {},
   "outputs": [],
   "source": [
    "weights = [\n",
    "    0.004, 0.001, 0.002, 0.006, 0.004, 0.004, 0.002, 0.006, 0.006, 0.002, 0.002, 0.008,\n",
    "    0.006, 0.002, 0.008, 0.006, 0.002, 0.006, 0.004, 0.002, 0.004, 0.001, 0.006, 0.004,\n",
    "    0.002, 0.002, 0.004, 0.002, 0.004, 0.004, 0.001, 0.001, 0.002, 0.002, 0.006, 0.004,\n",
    "    0.004, 0.004, 0.006, 0.002, 0.002, 0.04 , 0.002, 0.002, 0.004, 0.04 , 0.002, 0.001,\n",
    "    0.006, 0.004, 0.004, 0.006, 0.001, 0.004, 0.004, 0.002, 0.006, 0.004, 0.006, 0.004,\n",
    "    0.006, 0.004, 0.002, 0.001, 0.002, 0.004, 0.002, 0.008, 0.004, 0.004, 0.002, 0.004,\n",
    "    0.006, 0.002, 0.004, 0.004, 0.002, 0.004, 0.004, 0.004, 0.001, 0.002, 0.002, 0.008,\n",
    "    0.02 , 0.004, 0.006, 0.002, 0.02 , 0.002, 0.002, 0.006, 0.004, 0.002, 0.001, 0.02,\n",
    "    0.006, 0.001, 0.002, 0.004, 0.001, 0.002, 0.006, 0.006, 0.004, 0.006, 0.001, 0.002,\n",
    "    0.004, 0.006, 0.006, 0.001, 0.04 , 0.006, 0.002, 0.004, 0.002, 0.002, 0.006, 0.002,\n",
    "    0.002, 0.004, 0.006, 0.006, 0.002, 0.002, 0.008, 0.006, 0.004, 0.002, 0.006, 0.002,\n",
    "    0.004, 0.006, 0.002, 0.004, 0.001, 0.004, 0.002, 0.004, 0.008, 0.006, 0.008, 0.002,\n",
    "    0.004, 0.002, 0.001, 0.004, 0.004, 0.004, 0.006, 0.008, 0.004, 0.001, 0.001, 0.002,\n",
    "    0.006, 0.004, 0.001, 0.002, 0.006, 0.004, 0.006, 0.008, 0.002, 0.002, 0.004, 0.002,\n",
    "    0.04 , 0.002, 0.002, 0.004, 0.002, 0.002, 0.006, 0.02 , 0.004, 0.002, 0.006, 0.02,\n",
    "    0.001, 0.002, 0.006, 0.004, 0.006, 0.004, 0.004, 0.004, 0.004, 0.002, 0.004, 0.04,\n",
    "    0.002, 0.008, 0.002, 0.004, 0.001, 0.004, 0.006, 0.004,\n",
    "]\n",
    "weights = {int(k):v for k,v in enumerate(weights)}"
   ]
  },
  {
   "cell_type": "code",
   "execution_count": 7,
   "id": "cff5b11d",
   "metadata": {
    "execution": {
     "iopub.execute_input": "2023-12-11T06:19:11.630073Z",
     "iopub.status.busy": "2023-12-11T06:19:11.629812Z",
     "iopub.status.idle": "2023-12-11T06:19:11.655091Z",
     "shell.execute_reply": "2023-12-11T06:19:11.654382Z"
    },
    "papermill": {
     "duration": 0.035825,
     "end_time": "2023-12-11T06:19:11.656942",
     "exception": false,
     "start_time": "2023-12-11T06:19:11.621117",
     "status": "completed"
    },
    "tags": []
   },
   "outputs": [],
   "source": [
    "def imbalance_features(df):\n",
    "    # Define lists of price and size-related column names\n",
    "    prices = [\"reference_price\", \"far_price\", \"near_price\", \"ask_price\", \"bid_price\", \"wap\"]\n",
    "    sizes = [\"matched_size\", \"bid_size\", \"ask_size\", \"imbalance_size\"]\n",
    "    df[\"volume\"] = df.eval(\"ask_size + bid_size\")\n",
    "    df[\"mid_price\"] = df.eval(\"(ask_price + bid_price) / 2\")\n",
    "    df[\"liquidity_imbalance\"] = df.eval(\"(bid_size-ask_size)/(bid_size+ask_size)\")\n",
    "    df[\"matched_imbalance\"] = df.eval(\"(imbalance_size-matched_size)/(matched_size+imbalance_size)\")\n",
    "    df[\"size_imbalance\"] = df.eval(\"bid_size / ask_size\")\n",
    "\n",
    "    for c in combinations(prices, 2):\n",
    "        df[f\"{c[0]}_{c[1]}_imb\"] = df.eval(f\"({c[0]} - {c[1]})/({c[0]} + {c[1]})\")\n",
    "\n",
    "    for c in [['ask_price', 'bid_price', 'wap', 'reference_price'], sizes]:\n",
    "        triplet_feature = calculate_triplet_imbalance_numba(c, df)\n",
    "        df[triplet_feature.columns] = triplet_feature.values\n",
    "        \n",
    "    df[\"stock_weights\"] = df[\"stock_id\"].map(weights)\n",
    "    df[\"weighted_wap\"] = df[\"stock_weights\"] * df[\"wap\"]\n",
    "    ss = df.groupby('time_id')['weighted_wap'].sum()/df.groupby('time_id')['stock_weights'].sum()\n",
    "    ss = ss.reset_index()\n",
    "    ss.columns = ['time_id','indexwap']\n",
    "    df = pd.merge(df,ss,how='left',on='time_id')\n",
    "    df['indexwapdiff'] = df['wap'] - df['indexwap']\n",
    "    \n",
    "    df[\"imbalance_momentum\"] = df.groupby(['stock_id'])['imbalance_size'].diff(periods=1) / df['matched_size']\n",
    "    df[\"price_spread\"] = df[\"ask_price\"] - df[\"bid_price\"]\n",
    "    df[\"spread_intensity\"] = df.groupby(['stock_id'])['price_spread'].diff()\n",
    "    df['price_pressure'] = df['imbalance_size'] * (df['ask_price'] - df['bid_price'])\n",
    "    df['market_urgency'] = df['price_spread'] * df['liquidity_imbalance']\n",
    "    df['depth_pressure'] = (df['ask_size'] - df['bid_size']) * (df['far_price'] - df['near_price'])\n",
    "    df['depth_pressure2'] = (df['ask_size'] + df['bid_size']) * (df['far_price'] + df['near_price'])\n",
    "\n",
    "    # Calculate various statistical aggregation features\n",
    "    for func in [\"mean\", \"std\", \"skew\", \"kurt\",\"max\"]:\n",
    "        df[f\"all_prices_{func}\"] = df[prices].agg(func, axis=1)\n",
    "        df[f\"all_sizes_{func}\"] = df[sizes].agg(func, axis=1)\n",
    "        \n",
    "\n",
    "    for col in ['matched_size', 'imbalance_size', 'reference_price', 'imbalance_buy_sell_flag', 'indexwapdiff', 'wap']:\n",
    "        for window in [1, 2, 3, 10]:\n",
    "            df[f\"{col}_shift_{window}\"] = df.groupby('stock_id')[col].shift(window)\n",
    "            df[f\"{col}_ret_{window}\"] = df.groupby('stock_id')[col].pct_change(window)\n",
    "    \n",
    "    # Calculate diff features for specific columns\n",
    "    for col in ['ask_price', 'bid_price', 'ask_size', 'bid_size', 'market_urgency', 'imbalance_momentum', 'size_imbalance']:\n",
    "        for window in [1, 2, 3, 10]:\n",
    "            df[f\"{col}_diff_{window}\"] = df.groupby(\"stock_id\")[col].diff(window)\n",
    "\n",
    "    return df.replace([np.inf, -np.inf], 0)\n",
    "\n",
    "def other_features(df):\n",
    "    df[\"dow\"] = df[\"date_id\"] % 5  # Day of the week\n",
    "    df[\"seconds\"] = df[\"seconds_in_bucket\"] % 60  \n",
    "    df[\"minute\"] = df[\"seconds_in_bucket\"] // 60  \n",
    "    for key, value in global_stock_id_feats.items():\n",
    "        df[f\"global_{key}\"] = df[\"stock_id\"].map(value.to_dict())\n",
    "\n",
    "    return df\n",
    "\n",
    "def generate_all_features(df):\n",
    "    # Select relevant columns for feature generation\n",
    "#     cols = [c for c in df.columns if c not in [\"row_id\", \"time_id\", \"target\"]]\n",
    "#     df = df[cols]\n",
    "    \n",
    "    # Generate imbalance features\n",
    "    df = imbalance_features(df)\n",
    "    df = other_features(df)\n",
    "    gc.collect()  \n",
    "    feature_name = [i for i in df.columns if i not in [\"row_id\", \"target\", \"time_id\", \"date_id\"]]\n",
    "    \n",
    "    return df[feature_name]"
   ]
  },
  {
   "cell_type": "code",
   "execution_count": null,
   "id": "8b9b74b6",
   "metadata": {
    "execution": {
     "iopub.execute_input": "2023-12-11T06:19:11.672695Z",
     "iopub.status.busy": "2023-12-11T06:19:11.672456Z",
     "iopub.status.idle": "2023-12-11T06:19:11.683555Z",
     "shell.execute_reply": "2023-12-11T06:19:11.682826Z"
    },
    "papermill": {
     "duration": 0.021163,
     "end_time": "2023-12-11T06:19:11.685439",
     "exception": false,
     "start_time": "2023-12-11T06:19:11.664276",
     "status": "completed"
    },
    "tags": []
   },
   "outputs": [],
   "source": []
  },
  {
   "cell_type": "markdown",
   "id": "8913f9a8",
   "metadata": {
    "papermill": {
     "duration": 0.007465,
     "end_time": "2023-12-11T06:19:11.700730",
     "exception": false,
     "start_time": "2023-12-11T06:19:11.693265",
     "status": "completed"
    },
    "tags": []
   },
   "source": [
    "## Data Splitting"
   ]
  },
  {
   "cell_type": "code",
   "execution_count": 8,
   "id": "cad3176d",
   "metadata": {
    "execution": {
     "iopub.execute_input": "2023-12-11T06:19:11.716511Z",
     "iopub.status.busy": "2023-12-11T06:19:11.716273Z",
     "iopub.status.idle": "2023-12-11T06:19:11.721277Z",
     "shell.execute_reply": "2023-12-11T06:19:11.720457Z"
    },
    "papermill": {
     "duration": 0.015142,
     "end_time": "2023-12-11T06:19:11.723235",
     "exception": false,
     "start_time": "2023-12-11T06:19:11.708093",
     "status": "completed"
    },
    "tags": []
   },
   "outputs": [
    {
     "name": "stdout",
     "output_type": "stream",
     "text": [
      "Online mode\n"
     ]
    }
   ],
   "source": [
    "if is_offline:\n",
    "    \n",
    "    df_train = df[df[\"date_id\"] <= split_day]\n",
    "    df_valid = df[df[\"date_id\"] > split_day]\n",
    "    print(\"Offline mode\")\n",
    "    print(f\"train : {df_train.shape}, valid : {df_valid.shape}\")\n",
    "    \n",
    "else:\n",
    "    df_train = df\n",
    "    print(\"Online mode\")\n"
   ]
  },
  {
   "cell_type": "code",
   "execution_count": 9,
   "id": "a95185ef",
   "metadata": {
    "execution": {
     "iopub.execute_input": "2023-12-11T06:19:11.739347Z",
     "iopub.status.busy": "2023-12-11T06:19:11.739097Z",
     "iopub.status.idle": "2023-12-11T06:20:38.400304Z",
     "shell.execute_reply": "2023-12-11T06:20:38.399496Z"
    },
    "papermill": {
     "duration": 86.671935,
     "end_time": "2023-12-11T06:20:38.402657",
     "exception": false,
     "start_time": "2023-12-11T06:19:11.730722",
     "status": "completed"
    },
    "tags": []
   },
   "outputs": [],
   "source": [
    "\n",
    "global_stock_id_feats = {\n",
    "    \"median_size\": df_train.groupby(\"stock_id\")[\"bid_size\"].median() + df_train.groupby(\"stock_id\")[\"ask_size\"].median(),\n",
    "    \"std_size\": df_train.groupby(\"stock_id\")[\"bid_size\"].std() + df_train.groupby(\"stock_id\")[\"ask_size\"].std(),\n",
    "    \"ptp_size\": df_train.groupby(\"stock_id\")[\"bid_size\"].max() - df_train.groupby(\"stock_id\")[\"bid_size\"].min(),\n",
    "    \"median_price\": df_train.groupby(\"stock_id\")[\"bid_price\"].median() + df_train.groupby(\"stock_id\")[\"ask_price\"].median(),\n",
    "    \"std_price\": df_train.groupby(\"stock_id\")[\"bid_price\"].std() + df_train.groupby(\"stock_id\")[\"ask_price\"].std(),\n",
    "    \"ptp_price\": df_train.groupby(\"stock_id\")[\"bid_price\"].max() - df_train.groupby(\"stock_id\")[\"ask_price\"].min(),\n",
    "}\n"
   ]
  },
  {
   "cell_type": "code",
   "execution_count": 10,
   "id": "c4f2e4ae",
   "metadata": {
    "papermill": {
     "duration": 0.00743,
     "end_time": "2023-12-11T06:20:38.418026",
     "exception": false,
     "start_time": "2023-12-11T06:20:38.410596",
     "status": "completed"
    },
    "tags": []
   },
   "outputs": [],
   "source": [
    "#     if is_offline:\n",
    "#         df_train_feats = generate_all_features(df_train)\n",
    "#         print(\"Build Train Feats Finished.\")\n",
    "#         df_valid_feats = generate_all_features(df_valid)\n",
    "#         print(\"Build Valid Feats Finished.\")\n",
    "#         df_valid_feats = reduce_mem_usage(df_valid_feats)\n",
    "#     else:\n",
    "#         df_train_feats = generate_all_features(df_train)\n",
    "#         print(\"Build Online Train Feats Finished.\")\n",
    "\n",
    "#     df_train_feats = reduce_mem_usage(df_train_feats)\n"
   ]
  },
  {
   "cell_type": "code",
   "execution_count": null,
   "id": "ffa3b5d1",
   "metadata": {},
   "outputs": [],
   "source": []
  },
  {
   "cell_type": "markdown",
   "id": "71e4494d",
   "metadata": {
    "papermill": {
     "duration": 0.027782,
     "end_time": "2023-12-11T09:15:18.921185",
     "exception": false,
     "start_time": "2023-12-11T09:15:18.893403",
     "status": "completed"
    },
    "tags": []
   },
   "source": [
    "# **Submission**"
   ]
  },
  {
   "cell_type": "code",
   "execution_count": null,
   "id": "e26d5b09",
   "metadata": {
    "execution": {
     "iopub.execute_input": "2023-12-11T09:15:18.978477Z",
     "iopub.status.busy": "2023-12-11T09:15:18.978195Z",
     "iopub.status.idle": "2023-12-11T09:19:01.941243Z",
     "shell.execute_reply": "2023-12-11T09:19:01.940279Z"
    },
    "papermill": {
     "duration": 222.994354,
     "end_time": "2023-12-11T09:19:01.943465",
     "exception": false,
     "start_time": "2023-12-11T09:15:18.949111",
     "status": "completed"
    },
    "tags": []
   },
   "outputs": [],
   "source": [
    "def zero_sum(prices, volumes):\n",
    "    std_error = np.sqrt(volumes)\n",
    "    step = np.sum(prices) / np.sum(std_error)\n",
    "    out = prices - std_error * step\n",
    "    return out\n",
    "\n",
    "import optiver2023\n",
    "env = optiver2023.make_env()\n",
    "iter_test = env.iter_test()\n",
    "\n",
    "counter = 0\n",
    "y_min, y_max = -64, 64\n",
    "qps, predictions = [], []\n",
    "cache = pd.DataFrame()\n",
    "cachey = pd.DataFrame()\n",
    "\n",
    "# Weights for each fold model\n",
    "\n",
    "model_weights = weighted_average(models)\n",
    "for (test, revealed_targets, sample_prediction) in iter_test:\n",
    "    now_time = time.time()\n",
    "    cachey = pd.concat([cachey, revealed_targets], ignore_index=True, axis=0)\n",
    "    cachey = cachey[cachey.stock_id.isin(stocklist)].sort_values(by=['date_id', 'seconds_in_bucket', 'stock_id'])        \n",
    "    cachey['revealed_target'] = cachey['revealed_target'].astype(float)\n",
    "    \n",
    "    \n",
    "    cachey['target_shift1'] = cachey.groupby(['stock_id','seconds_in_bucket'])['revealed_target'].shift(0)\n",
    "    cachey['target_shift2'] = cachey.groupby(['stock_id','seconds_in_bucket'])['revealed_target'].shift(1)\n",
    "    cachey['target_shift3'] = cachey.groupby(['stock_id','seconds_in_bucket'])['revealed_target'].shift(2)\n",
    "    cachey['target_shift4'] = cachey.groupby(['stock_id','seconds_in_bucket'])['revealed_target'].shift(3)\n",
    "\n",
    "    test['time_id'] = test['date_id'].astype(str) +'_'+test['seconds_in_bucket'].astype(str)\n",
    "\n",
    "    test = pd.merge(test,cachey[['date_id', 'stock_id', 'seconds_in_bucket','target_shift1','target_shift2','target_shift3']],\\\n",
    "                     how='left',on = ['date_id', 'stock_id','seconds_in_bucket'])\n",
    "    cache = pd.concat([cache, test], ignore_index=True, axis=0)\n",
    "\n",
    "    if counter > 0:\n",
    "        cache = cache.groupby(['stock_id']).tail(21).sort_values(by=['date_id', 'seconds_in_bucket', 'stock_id']).reset_index(drop=True)\n",
    "\n",
    "    if test.currently_scored.iloc[0]== False:\n",
    "        sample_prediction['target'] = 0\n",
    "        env.predict(sample_prediction)\n",
    "        counter += 1\n",
    "        qps.append(time.time() - now_time)\n",
    "        if counter % 10 == 0:\n",
    "            print(counter, 'qps:', np.mean(qps))\n",
    "        continue\n",
    "        \n",
    "    try:\n",
    "        feat = generate_all_features(cache)[-len(test):]\n",
    "\n",
    "        # Generate predictions for each model and calculate the weighted average\n",
    "\n",
    "        lgb_predictions = np.zeros(len(test))\n",
    "        for model, weight in zip(models, model_weights):\n",
    "            feature_columns = model.feature_name()\n",
    "            lgb_predictions += weight * model.predict(feat[feature_columns])\n",
    "\n",
    "        predictions = lgb_predictions\n",
    "\n",
    "        #Using mean predictions rather than zero sum\n",
    "        final_predictions = predictions - np.sum(predictions*feat['stock_weights'])\n",
    "        clipped_predictions = np.clip(final_predictions, y_min, y_max)\n",
    "        sample_prediction['target'] = clipped_predictions\n",
    "        print(f\"Feat Shape is: {feat.shape}\")\n",
    "    except:\n",
    "        sample_prediction['target'] = 0\n",
    "    env.predict(sample_prediction)\n",
    "    counter += 1\n",
    "    qps.append(time.time() - now_time)\n",
    "    if counter % 10 == 0:\n",
    "        print(counter, 'qps:', np.mean(qps))\n",
    "\n",
    "time_cost = 1.146 * np.mean(qps)\n",
    "print(f\"The code will take approximately {np.round(time_cost, 4)} hours to reason about\")\n"
   ]
  },
  {
   "cell_type": "code",
   "execution_count": null,
   "id": "be73ba6a",
   "metadata": {},
   "outputs": [],
   "source": []
  },
  {
   "cell_type": "code",
   "execution_count": null,
   "id": "8f718021",
   "metadata": {},
   "outputs": [],
   "source": []
  },
  {
   "cell_type": "code",
   "execution_count": null,
   "id": "8b273fea",
   "metadata": {},
   "outputs": [],
   "source": []
  },
  {
   "cell_type": "code",
   "execution_count": null,
   "id": "12cb9ccd",
   "metadata": {},
   "outputs": [],
   "source": []
  },
  {
   "cell_type": "code",
   "execution_count": null,
   "id": "14dfd61d",
   "metadata": {},
   "outputs": [],
   "source": []
  },
  {
   "cell_type": "code",
   "execution_count": null,
   "id": "09709dad",
   "metadata": {},
   "outputs": [],
   "source": []
  },
  {
   "cell_type": "code",
   "execution_count": null,
   "id": "adebbada",
   "metadata": {},
   "outputs": [],
   "source": []
  },
  {
   "cell_type": "code",
   "execution_count": null,
   "id": "d0c31ca8",
   "metadata": {},
   "outputs": [],
   "source": []
  },
  {
   "cell_type": "code",
   "execution_count": null,
   "id": "d07c0acc",
   "metadata": {},
   "outputs": [],
   "source": []
  }
 ],
 "metadata": {
  "kaggle": {
   "accelerator": "gpu",
   "dataSources": [
    {
     "databundleVersionId": 7056235,
     "sourceId": 57891,
     "sourceType": "competition"
    }
   ],
   "dockerImageVersionId": 30588,
   "isGpuEnabled": true,
   "isInternetEnabled": false,
   "language": "python",
   "sourceType": "notebook"
  },
  "kernelspec": {
   "display_name": "Python 3 (ipykernel)",
   "language": "python",
   "name": "python3"
  },
  "language_info": {
   "codemirror_mode": {
    "name": "ipython",
    "version": 3
   },
   "file_extension": ".py",
   "mimetype": "text/x-python",
   "name": "python",
   "nbconvert_exporter": "python",
   "pygments_lexer": "ipython3",
   "version": "3.9.13"
  },
  "papermill": {
   "default_parameters": {},
   "duration": 10820.517056,
   "end_time": "2023-12-11T09:19:03.631574",
   "environment_variables": {},
   "exception": null,
   "input_path": "__notebook__.ipynb",
   "output_path": "__notebook__.ipynb",
   "parameters": {},
   "start_time": "2023-12-11T06:18:43.114518",
   "version": "2.4.0"
  }
 },
 "nbformat": 4,
 "nbformat_minor": 5
}
